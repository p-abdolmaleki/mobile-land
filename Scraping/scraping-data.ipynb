{
 "cells": [
  {
   "cell_type": "code",
   "execution_count": null,
   "metadata": {},
   "outputs": [],
   "source": [
    "from Scrapper import Scrapper\n",
    "import pandas as pd"
   ]
  },
  {
   "cell_type": "code",
   "execution_count": null,
   "metadata": {},
   "outputs": [],
   "source": [
    "phone_links = list()\n",
    "with open('links.txt', 'r') as file:\n",
    "    for link in file.readlines():\n",
    "        phone_links.append(link.replace('\\n',''))"
   ]
  },
  {
   "cell_type": "code",
   "execution_count": null,
   "metadata": {},
   "outputs": [],
   "source": [
    "seeds = list()\n",
    "for i in range(9):\n",
    "    if i < 8:\n",
    "        seeds.append(phone_links[i * 100:i *100 + 100])\n",
    "    else:\n",
    "        seeds.append(phone_links[i * 100:])"
   ]
  },
  {
   "cell_type": "code",
   "execution_count": null,
   "metadata": {},
   "outputs": [],
   "source": [
    "phone_details = list()"
   ]
  },
  {
   "cell_type": "code",
   "execution_count": null,
   "metadata": {},
   "outputs": [],
   "source": [
    "for i, link in enumerate(seeds[0]):\n",
    "    print(' link with ', i + 1, 'index started to scrap')\n",
    "    phone_details.append(Scrapper.scrape_phone_data(link))"
   ]
  },
  {
   "cell_type": "code",
   "execution_count": null,
   "metadata": {},
   "outputs": [],
   "source": [
    "Scrapper.FAILED_REQUEST_URLS"
   ]
  },
  {
   "cell_type": "code",
   "execution_count": null,
   "metadata": {},
   "outputs": [],
   "source": [
    "for i, link in enumerate(seeds[1]):\n",
    "    print(' link with ', i + 1, 'index started to scrap')\n",
    "    phone_details.append(Scrapper.scrape_phone_data(link))"
   ]
  },
  {
   "cell_type": "code",
   "execution_count": null,
   "metadata": {},
   "outputs": [],
   "source": [
    "Scrapper.FAILED_REQUEST_URLS"
   ]
  },
  {
   "cell_type": "code",
   "execution_count": null,
   "metadata": {},
   "outputs": [],
   "source": [
    "for i, link in enumerate(seeds[2][65:]):\n",
    "    print(' link with ', i + 1, 'index started to scrap')\n",
    "    phone_details.append(Scrapper.scrape_phone_data(link))"
   ]
  },
  {
   "cell_type": "code",
   "execution_count": null,
   "metadata": {},
   "outputs": [],
   "source": [
    "Scrapper.FAILED_REQUEST_URLS"
   ]
  },
  {
   "cell_type": "code",
   "execution_count": null,
   "metadata": {},
   "outputs": [],
   "source": [
    "for i, link in enumerate(seeds[3]):\n",
    "    print(' link with ', i + 1, 'index started to scrap')\n",
    "    phone_details.append(Scrapper.scrape_phone_data(link))"
   ]
  },
  {
   "cell_type": "code",
   "execution_count": null,
   "metadata": {},
   "outputs": [],
   "source": [
    "Scrapper.FAILED_REQUEST_URLS"
   ]
  },
  {
   "cell_type": "code",
   "execution_count": null,
   "metadata": {},
   "outputs": [],
   "source": [
    "for i, link in enumerate(seeds[4]):\n",
    "    print(' link with ', i + 1, 'index started to scrap')\n",
    "    phone_details.append(Scrapper.scrape_phone_data(link))"
   ]
  },
  {
   "cell_type": "code",
   "execution_count": null,
   "metadata": {},
   "outputs": [],
   "source": [
    "Scrapper.FAILED_REQUEST_URLS"
   ]
  },
  {
   "cell_type": "code",
   "execution_count": null,
   "metadata": {},
   "outputs": [],
   "source": [
    "for i, link in enumerate(seeds[5]):\n",
    "    print(' link with ', i + 1, 'index started to scrap')\n",
    "    phone_details.append(Scrapper.scrape_phone_data(link))"
   ]
  },
  {
   "cell_type": "code",
   "execution_count": null,
   "metadata": {},
   "outputs": [],
   "source": [
    "Scrapper.FAILED_REQUEST_URLS"
   ]
  },
  {
   "cell_type": "code",
   "execution_count": null,
   "metadata": {},
   "outputs": [],
   "source": [
    "for i, link in enumerate(seeds[6]):\n",
    "    print(' link with ', i + 1, 'index started to scrap')\n",
    "    phone_details.append(Scrapper.scrape_phone_data(link))"
   ]
  },
  {
   "cell_type": "code",
   "execution_count": null,
   "metadata": {},
   "outputs": [],
   "source": [
    "Scrapper.FAILED_REQUEST_URLS"
   ]
  },
  {
   "cell_type": "code",
   "execution_count": null,
   "metadata": {},
   "outputs": [],
   "source": [
    "for i, link in enumerate(seeds[7]):\n",
    "    print(' link with ', i + 1, 'index started to scrap')\n",
    "    phone_details.append(Scrapper.scrape_phone_data(link))"
   ]
  },
  {
   "cell_type": "code",
   "execution_count": null,
   "metadata": {},
   "outputs": [],
   "source": [
    "for i, link in enumerate(seeds[8]):\n",
    "    print(' link with ', i + 1, 'index started to scrap')\n",
    "    phone_details.append(Scrapper.scrape_phone_data(link))"
   ]
  },
  {
   "cell_type": "code",
   "execution_count": null,
   "metadata": {},
   "outputs": [],
   "source": [
    "failed_link = Scrapper.FAILED_REQUEST_URLS"
   ]
  },
  {
   "cell_type": "code",
   "execution_count": null,
   "metadata": {},
   "outputs": [],
   "source": [
    "Scrapper.FAILED_REQUEST_URLS = []"
   ]
  },
  {
   "cell_type": "code",
   "execution_count": null,
   "metadata": {},
   "outputs": [],
   "source": [
    "for i, link in enumerate(failed_link):\n",
    "    print(' link with ', i + 1, 'index started to scrap')\n",
    "    phone_details.append(Scrapper.scrape_phone_data(link))"
   ]
  },
  {
   "cell_type": "code",
   "execution_count": null,
   "metadata": {},
   "outputs": [],
   "source": [
    "phone_details_without_None = [i for i in phone_details if i != None]"
   ]
  },
  {
   "cell_type": "code",
   "execution_count": null,
   "metadata": {},
   "outputs": [],
   "source": [
    "len(phone_details_without_None)"
   ]
  },
  {
   "cell_type": "code",
   "execution_count": null,
   "metadata": {},
   "outputs": [],
   "source": [
    "df = pd.DataFrame(phone_details_without_None)"
   ]
  },
  {
   "cell_type": "code",
   "execution_count": null,
   "metadata": {},
   "outputs": [],
   "source": [
    "df.head()"
   ]
  },
  {
   "cell_type": "code",
   "execution_count": null,
   "metadata": {},
   "outputs": [],
   "source": [
    "df.to_csv('datas/parsa-datas.csv', index=False)"
   ]
  }
 ],
 "metadata": {
  "kernelspec": {
   "display_name": "base",
   "language": "python",
   "name": "python3"
  },
  "language_info": {
   "codemirror_mode": {
    "name": "ipython",
    "version": 3
   },
   "file_extension": ".py",
   "mimetype": "text/x-python",
   "name": "python",
   "nbconvert_exporter": "python",
   "pygments_lexer": "ipython3",
   "version": "3.9.18"
  }
 },
 "nbformat": 4,
 "nbformat_minor": 2
}
