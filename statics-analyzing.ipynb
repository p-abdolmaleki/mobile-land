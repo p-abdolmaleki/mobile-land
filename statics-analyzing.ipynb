{
 "cells": [
  {
   "cell_type": "markdown",
   "id": "2f5b34cd-b093-4602-a93f-6ea2dcde7a7b",
   "metadata": {},
   "source": [
    "# Moblie Statics\n",
    "\n",
    "This notebook is made for analizing the data that was scraped by Group 7 and answering the questions that is asked.\n"
   ]
  },
  {
   "cell_type": "code",
   "execution_count": 5,
   "id": "a11370e1-fd20-4c34-8564-36a7cb064d02",
   "metadata": {},
   "outputs": [
    {
     "data": {
      "text/html": [
       "<div>\n",
       "<style scoped>\n",
       "    .dataframe tbody tr th:only-of-type {\n",
       "        vertical-align: middle;\n",
       "    }\n",
       "\n",
       "    .dataframe tbody tr th {\n",
       "        vertical-align: top;\n",
       "    }\n",
       "\n",
       "    .dataframe thead th {\n",
       "        text-align: right;\n",
       "    }\n",
       "</style>\n",
       "<table border=\"1\" class=\"dataframe\">\n",
       "  <thead>\n",
       "    <tr style=\"text-align: right;\">\n",
       "      <th></th>\n",
       "      <th>brand</th>\n",
       "      <th>id</th>\n",
       "      <th>model</th>\n",
       "      <th>year</th>\n",
       "      <th>price</th>\n",
       "      <th>battery</th>\n",
       "      <th>weight</th>\n",
       "      <th>sim</th>\n",
       "      <th>size</th>\n",
       "      <th>length_resolution</th>\n",
       "      <th>...</th>\n",
       "      <th>ratio</th>\n",
       "      <th>length</th>\n",
       "      <th>width</th>\n",
       "      <th>thickness</th>\n",
       "      <th>core</th>\n",
       "      <th>os_type</th>\n",
       "      <th>os_version</th>\n",
       "      <th>2G</th>\n",
       "      <th>3G</th>\n",
       "      <th>4G</th>\n",
       "    </tr>\n",
       "  </thead>\n",
       "  <tbody>\n",
       "    <tr>\n",
       "      <th>0</th>\n",
       "      <td>Huawei</td>\n",
       "      <td>1</td>\n",
       "      <td>Y9a</td>\n",
       "      <td>2020</td>\n",
       "      <td>200.0</td>\n",
       "      <td>4200.0</td>\n",
       "      <td>197.0</td>\n",
       "      <td>Nano-SIM</td>\n",
       "      <td>6.63</td>\n",
       "      <td>1080</td>\n",
       "      <td>...</td>\n",
       "      <td>84.8</td>\n",
       "      <td>163.5</td>\n",
       "      <td>76.5</td>\n",
       "      <td>9.0</td>\n",
       "      <td>8.0</td>\n",
       "      <td>Android</td>\n",
       "      <td>10</td>\n",
       "      <td>True</td>\n",
       "      <td>True</td>\n",
       "      <td>True</td>\n",
       "    </tr>\n",
       "    <tr>\n",
       "      <th>1</th>\n",
       "      <td>Huawei</td>\n",
       "      <td>2</td>\n",
       "      <td>Enjoy 20 Plus 5G</td>\n",
       "      <td>2020</td>\n",
       "      <td>280.0</td>\n",
       "      <td>4200.0</td>\n",
       "      <td>197.0</td>\n",
       "      <td>Nano-SIM</td>\n",
       "      <td>6.63</td>\n",
       "      <td>1080</td>\n",
       "      <td>...</td>\n",
       "      <td>84.8</td>\n",
       "      <td>163.5</td>\n",
       "      <td>76.5</td>\n",
       "      <td>9.0</td>\n",
       "      <td>8.0</td>\n",
       "      <td>Android</td>\n",
       "      <td>10</td>\n",
       "      <td>True</td>\n",
       "      <td>True</td>\n",
       "      <td>True</td>\n",
       "    </tr>\n",
       "    <tr>\n",
       "      <th>2</th>\n",
       "      <td>Huawei</td>\n",
       "      <td>3</td>\n",
       "      <td>Enjoy 20 5G</td>\n",
       "      <td>2020</td>\n",
       "      <td>210.0</td>\n",
       "      <td>5000.0</td>\n",
       "      <td>188.0</td>\n",
       "      <td>Nano-SIM</td>\n",
       "      <td>6.60</td>\n",
       "      <td>720</td>\n",
       "      <td>...</td>\n",
       "      <td>83.8</td>\n",
       "      <td>165.2</td>\n",
       "      <td>76.0</td>\n",
       "      <td>9.2</td>\n",
       "      <td>8.0</td>\n",
       "      <td>Android</td>\n",
       "      <td>10</td>\n",
       "      <td>True</td>\n",
       "      <td>True</td>\n",
       "      <td>True</td>\n",
       "    </tr>\n",
       "    <tr>\n",
       "      <th>3</th>\n",
       "      <td>Huawei</td>\n",
       "      <td>4</td>\n",
       "      <td>MatePad 10.8</td>\n",
       "      <td>2020</td>\n",
       "      <td>300.0</td>\n",
       "      <td>7500.0</td>\n",
       "      <td>500.0</td>\n",
       "      <td>Nano-SIM</td>\n",
       "      <td>10.80</td>\n",
       "      <td>1600</td>\n",
       "      <td>...</td>\n",
       "      <td>77.4</td>\n",
       "      <td>257.0</td>\n",
       "      <td>170.0</td>\n",
       "      <td>7.2</td>\n",
       "      <td>8.0</td>\n",
       "      <td>Android</td>\n",
       "      <td>10</td>\n",
       "      <td>True</td>\n",
       "      <td>True</td>\n",
       "      <td>True</td>\n",
       "    </tr>\n",
       "    <tr>\n",
       "      <th>4</th>\n",
       "      <td>Huawei</td>\n",
       "      <td>5</td>\n",
       "      <td>MatePad T 10s</td>\n",
       "      <td>2020</td>\n",
       "      <td>200.0</td>\n",
       "      <td>5100.0</td>\n",
       "      <td>450.0</td>\n",
       "      <td>Nano-SIM</td>\n",
       "      <td>10.10</td>\n",
       "      <td>1200</td>\n",
       "      <td>...</td>\n",
       "      <td>77.4</td>\n",
       "      <td>240.2</td>\n",
       "      <td>159.0</td>\n",
       "      <td>7.9</td>\n",
       "      <td>8.0</td>\n",
       "      <td>Android</td>\n",
       "      <td>10</td>\n",
       "      <td>True</td>\n",
       "      <td>True</td>\n",
       "      <td>True</td>\n",
       "    </tr>\n",
       "  </tbody>\n",
       "</table>\n",
       "<p>5 rows × 22 columns</p>\n",
       "</div>"
      ],
      "text/plain": [
       "    brand  id             model  year  price  battery  weight       sim  \\\n",
       "0  Huawei   1               Y9a  2020  200.0   4200.0   197.0  Nano-SIM   \n",
       "1  Huawei   2  Enjoy 20 Plus 5G  2020  280.0   4200.0   197.0  Nano-SIM   \n",
       "2  Huawei   3       Enjoy 20 5G  2020  210.0   5000.0   188.0  Nano-SIM   \n",
       "3  Huawei   4      MatePad 10.8  2020  300.0   7500.0   500.0  Nano-SIM   \n",
       "4  Huawei   5     MatePad T 10s  2020  200.0   5100.0   450.0  Nano-SIM   \n",
       "\n",
       "    size  length_resolution  ...  ratio  length  width  thickness  core  \\\n",
       "0   6.63               1080  ...   84.8   163.5   76.5        9.0   8.0   \n",
       "1   6.63               1080  ...   84.8   163.5   76.5        9.0   8.0   \n",
       "2   6.60                720  ...   83.8   165.2   76.0        9.2   8.0   \n",
       "3  10.80               1600  ...   77.4   257.0  170.0        7.2   8.0   \n",
       "4  10.10               1200  ...   77.4   240.2  159.0        7.9   8.0   \n",
       "\n",
       "   os_type  os_version    2G    3G    4G  \n",
       "0  Android          10  True  True  True  \n",
       "1  Android          10  True  True  True  \n",
       "2  Android          10  True  True  True  \n",
       "3  Android          10  True  True  True  \n",
       "4  Android          10  True  True  True  \n",
       "\n",
       "[5 rows x 22 columns]"
      ]
     },
     "execution_count": 5,
     "metadata": {},
     "output_type": "execute_result"
    }
   ],
   "source": [
    "import pandas as pd\n",
    "import numpy as np\n",
    "\n",
    "df = pd.read_csv('data/cleanned_data.csv')\n",
    "df.head()\n"
   ]
  },
  {
   "cell_type": "markdown",
   "id": "c967f8ec-5a44-492b-93a4-dc4213d298ce",
   "metadata": {},
   "source": [
    "## Analizing the network (2G , 3G , 4G)"
   ]
  },
  {
   "cell_type": "code",
   "execution_count": null,
   "id": "69614c85-b173-47c2-9b7c-943802e596e7",
   "metadata": {},
   "outputs": [],
   "source": []
  },
  {
   "cell_type": "markdown",
   "id": "9e5ba67f-16bb-494e-8b66-67ff13d4a503",
   "metadata": {},
   "source": [
    "## Correlation matrix between phones stats"
   ]
  },
  {
   "cell_type": "code",
   "execution_count": null,
   "id": "fced1c98-147a-4ce6-9f86-6adac32d3bd0",
   "metadata": {},
   "outputs": [],
   "source": []
  },
  {
   "cell_type": "markdown",
   "id": "a44b2744-a0ff-4510-9558-6743b76de11a",
   "metadata": {},
   "source": [
    "## Most used Sim card"
   ]
  },
  {
   "cell_type": "code",
   "execution_count": null,
   "id": "42efc244-3d10-476d-8c1a-0c43105c85b7",
   "metadata": {},
   "outputs": [],
   "source": []
  },
  {
   "cell_type": "markdown",
   "id": "db0e1963-d2c8-4840-b171-8f04e5c5a2c5",
   "metadata": {},
   "source": [
    "## Top 10 used Andriod version"
   ]
  },
  {
   "cell_type": "code",
   "execution_count": null,
   "id": "86dbf38a-ef2f-4279-a8e5-a4a4d51bc6f6",
   "metadata": {},
   "outputs": [],
   "source": []
  },
  {
   "cell_type": "markdown",
   "id": "91c0938d-b893-4b9b-ae74-b9c777317b6f",
   "metadata": {},
   "source": [
    "## Top 50 expencive phones"
   ]
  },
  {
   "cell_type": "code",
   "execution_count": null,
   "id": "df52fe2f-f921-4bdf-bd7c-25f1b86bb97f",
   "metadata": {},
   "outputs": [],
   "source": []
  },
  {
   "cell_type": "markdown",
   "id": "0ebe6725-1d5a-40e5-909c-ba625a8f488e",
   "metadata": {},
   "source": [
    "## Phones distribution on brand"
   ]
  },
  {
   "cell_type": "code",
   "execution_count": null,
   "id": "19c6ef2a-672d-49e1-a083-c14c27aa11aa",
   "metadata": {},
   "outputs": [],
   "source": []
  },
  {
   "cell_type": "markdown",
   "id": "656eb3e5-339e-4b9b-99d2-8cc7937f6f44",
   "metadata": {},
   "source": [
    "## ppi density Scatter plots (Apple , Samsung , Xiaomi)"
   ]
  },
  {
   "cell_type": "code",
   "execution_count": null,
   "id": "ab484590-4202-41cb-be12-1607ff0aac96",
   "metadata": {},
   "outputs": [],
   "source": []
  },
  {
   "cell_type": "markdown",
   "id": "c767b063-4e4b-474c-aef9-38bbf1ee573a",
   "metadata": {},
   "source": [
    "## Other stats Distribution plots"
   ]
  },
  {
   "cell_type": "code",
   "execution_count": null,
   "id": "9d85490f-1c35-4082-b90d-11dbc31f759d",
   "metadata": {},
   "outputs": [],
   "source": []
  },
  {
   "cell_type": "markdown",
   "id": "a6bac4dc-6a68-4a3d-ad7a-4e65d12d203a",
   "metadata": {},
   "source": [
    "## Prediction on phone price (Apple , Samsung , Xiaomi , Nokia , Huawei)"
   ]
  },
  {
   "cell_type": "code",
   "execution_count": null,
   "id": "823f3ec9-2b82-4a43-a818-2f9a05b3a6dc",
   "metadata": {},
   "outputs": [],
   "source": []
  },
  {
   "cell_type": "markdown",
   "id": "b3ee4d50-83bf-4877-af0f-08f2941f9f40",
   "metadata": {},
   "source": [
    "## Do different phones based on their sim cards have diffrent size?"
   ]
  },
  {
   "cell_type": "code",
   "execution_count": null,
   "id": "ac2b4c5e-4d0a-4f23-8ed4-2bd333228d52",
   "metadata": {},
   "outputs": [],
   "source": []
  },
  {
   "cell_type": "markdown",
   "id": "b333012b-9b39-4608-97af-2693bc51828e",
   "metadata": {},
   "source": [
    "## Relation between size and resulotion"
   ]
  },
  {
   "cell_type": "code",
   "execution_count": null,
   "id": "75e42ecd-5c67-45b3-9ee2-3e6b90dea3df",
   "metadata": {},
   "outputs": [],
   "source": []
  },
  {
   "cell_type": "markdown",
   "id": "b7d67c14-eb79-47ce-999e-a466f1892cd2",
   "metadata": {},
   "source": [
    "## Relation between OS and weight"
   ]
  },
  {
   "cell_type": "code",
   "execution_count": null,
   "id": "c293198d-5a8d-4eee-9421-e8146b690538",
   "metadata": {},
   "outputs": [],
   "source": []
  },
  {
   "cell_type": "markdown",
   "id": "77bea015-8ae9-4326-9c2d-7af00bb62c19",
   "metadata": {},
   "source": [
    "## Relation between screen size class and battery"
   ]
  },
  {
   "cell_type": "code",
   "execution_count": null,
   "id": "fdf1e936-2d55-450e-913a-81e1656ee64b",
   "metadata": {},
   "outputs": [],
   "source": []
  },
  {
   "cell_type": "markdown",
   "id": "028cdc46-6046-4102-a6fc-c5d567b32bec",
   "metadata": {},
   "source": [
    "## Relation between screen size class and phone price"
   ]
  },
  {
   "cell_type": "code",
   "execution_count": null,
   "id": "83855716-f6ab-4ca1-98ce-bd9879baf5dc",
   "metadata": {},
   "outputs": [],
   "source": []
  },
  {
   "cell_type": "markdown",
   "id": "945644a9-47aa-41cd-b8c8-46ca442a46fa",
   "metadata": {},
   "source": [
    "## Do different phones based on their screen size class have diffrent weight?"
   ]
  },
  {
   "cell_type": "code",
   "execution_count": null,
   "id": "e12a7f16-ea28-4444-bdfe-9316dead4415",
   "metadata": {},
   "outputs": [],
   "source": []
  }
 ],
 "metadata": {
  "kernelspec": {
   "display_name": "Python 3 (ipykernel)",
   "language": "python",
   "name": "python3"
  },
  "language_info": {
   "codemirror_mode": {
    "name": "ipython",
    "version": 3
   },
   "file_extension": ".py",
   "mimetype": "text/x-python",
   "name": "python",
   "nbconvert_exporter": "python",
   "pygments_lexer": "ipython3",
   "version": "3.11.2"
  }
 },
 "nbformat": 4,
 "nbformat_minor": 5
}
